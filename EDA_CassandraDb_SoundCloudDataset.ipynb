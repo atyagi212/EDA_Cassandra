{
  "cells": [
    {
      "cell_type": "markdown",
      "metadata": {
        "id": "9oXwjr_18XNQ"
      },
      "source": [
        "## Model Data using Cassandra\n",
        "\n",
        "\n",
        "### Please just submit this notebook in the Submission and make sure each cell has been executed and output is clearly displayed.\n",
        "\n",
        "### The aim of the project is to solve the three queries given below."
      ]
    },
    {
      "cell_type": "markdown",
      "metadata": {
        "id": "KG4Sbxcc8XNS"
      },
      "source": [
        "### Introduction\n",
        "\n",
        "There is a music streaming app called SoundCloud, that has been using their music streaming app and collecting data on songs and user activity and their aim is to analyze this data especially understanding what songs users are listening to. Currently, they are not making use of a NoSQL db and they have the data stored as a CSV file, thus its difficult for them to query the data. So our task is to create a NoSQL database for helping them with the analysis."
      ]
    },
    {
      "cell_type": "markdown",
      "metadata": {
        "id": "0Lh-wqIE8XNS"
      },
      "source": [
        "#### Import Packages "
      ]
    },
    {
      "attachments": {},
      "cell_type": "markdown",
      "metadata": {},
      "source": [
        "I have used a cloud service (Datastax Astra) to host my database and it requires to use cassandra-driver package"
      ]
    },
    {
      "cell_type": "code",
      "execution_count": 3,
      "metadata": {
        "colab": {
          "base_uri": "https://localhost:8080/"
        },
        "id": "6FU7CzN8AFGT",
        "outputId": "8ac2b2ea-eb7d-41d5-d945-0bbb28d5c052"
      },
      "outputs": [
        {
          "name": "stdout",
          "output_type": "stream",
          "text": [
            "Looking in indexes: https://pypi.org/simple, https://us-python.pkg.dev/colab-wheels/public/simple/\n",
            "Collecting cassandra-driver\n",
            "  Downloading cassandra_driver-3.25.0-cp39-cp39-manylinux_2_5_x86_64.manylinux1_x86_64.whl (3.6 MB)\n",
            "\u001b[2K     \u001b[90m━━━━━━━━━━━━━━━━━━━━━━━━━━━━━━━━━━━━━━━━\u001b[0m \u001b[32m3.6/3.6 MB\u001b[0m \u001b[31m33.4 MB/s\u001b[0m eta \u001b[36m0:00:00\u001b[0m\n",
            "\u001b[?25hCollecting geomet<0.3,>=0.1\n",
            "  Downloading geomet-0.2.1.post1-py3-none-any.whl (18 kB)\n",
            "Requirement already satisfied: six>=1.9 in /usr/local/lib/python3.9/dist-packages (from cassandra-driver) (1.15.0)\n",
            "Requirement already satisfied: click in /usr/local/lib/python3.9/dist-packages (from geomet<0.3,>=0.1->cassandra-driver) (8.1.3)\n",
            "Installing collected packages: geomet, cassandra-driver\n",
            "Successfully installed cassandra-driver-3.25.0 geomet-0.2.1.post1\n"
          ]
        }
      ],
      "source": [
        "! pip install cassandra-driver"
      ]
    },
    {
      "cell_type": "code",
      "execution_count": 2,
      "metadata": {
        "id": "gBJVvO_KM_dv"
      },
      "outputs": [],
      "source": [
        "import json\n",
        "\n",
        "id =\"\"\n",
        "sec=\"\"\n",
        "with open(\"/content/sample_data/cassandra.json\", \"r\") as f:\n",
        "  data = json.load(f)\n",
        "  id = data['clientID']\n",
        "  sec = data['clientSecret']"
      ]
    },
    {
      "cell_type": "code",
      "execution_count": 4,
      "metadata": {
        "id": "6F6SzLTb8XNS"
      },
      "outputs": [],
      "source": [
        "import pandas as pd\n",
        "import numpy as np\n",
        "import cassandra\n",
        "import csv"
      ]
    },
    {
      "cell_type": "markdown",
      "metadata": {
        "id": "hfJ2c4Lf8XNT"
      },
      "source": [
        "\n",
        "##  The image below is a screenshot of what the data appears like in the event_data.csv\n",
        "\n",
        "<img src=\"event_data_image.jpg\">"
      ]
    },
    {
      "cell_type": "markdown",
      "metadata": {
        "id": "sjZ2KBZJ8XNT"
      },
      "source": [
        "#### Creating a Cluster"
      ]
    },
    {
      "cell_type": "code",
      "execution_count": 12,
      "metadata": {
        "colab": {
          "base_uri": "https://localhost:8080/"
        },
        "id": "iSwZGXau8XNT",
        "outputId": "eb327580-5745-48d3-9385-913670cce1b7"
      },
      "outputs": [
        {
          "name": "stderr",
          "output_type": "stream",
          "text": [
            "WARNING:cassandra.cluster:Downgrading core protocol version from 66 to 65 for de1b27fd-ae97-4407-8ae9-0a124dbcb0f8-us-east1.db.astra.datastax.com:29042:e98e9571-aa43-4e97-bfcd-286514bd492b. To avoid this, it is best practice to explicitly set Cluster(protocol_version) to the version supported by your cluster. http://datastax.github.io/python-driver/api/cassandra/cluster.html#cassandra.cluster.Cluster.protocol_version\n",
            "WARNING:cassandra.cluster:Downgrading core protocol version from 65 to 5 for de1b27fd-ae97-4407-8ae9-0a124dbcb0f8-us-east1.db.astra.datastax.com:29042:e98e9571-aa43-4e97-bfcd-286514bd492b. To avoid this, it is best practice to explicitly set Cluster(protocol_version) to the version supported by your cluster. http://datastax.github.io/python-driver/api/cassandra/cluster.html#cassandra.cluster.Cluster.protocol_version\n",
            "ERROR:cassandra.connection:Closing connection <LibevConnection(140497358641808) de1b27fd-ae97-4407-8ae9-0a124dbcb0f8-us-east1.db.astra.datastax.com:29042:e98e9571-aa43-4e97-bfcd-286514bd492b> due to protocol error: Error from server: code=000a [Protocol error] message=\"Beta version of the protocol used (5/v5-beta), but USE_BETA flag is unset\"\n",
            "WARNING:cassandra.cluster:Downgrading core protocol version from 5 to 4 for de1b27fd-ae97-4407-8ae9-0a124dbcb0f8-us-east1.db.astra.datastax.com:29042:e98e9571-aa43-4e97-bfcd-286514bd492b. To avoid this, it is best practice to explicitly set Cluster(protocol_version) to the version supported by your cluster. http://datastax.github.io/python-driver/api/cassandra/cluster.html#cassandra.cluster.Cluster.protocol_version\n"
          ]
        }
      ],
      "source": [
        "# Task: Make a connection to the cassandra instance on your local machine(127.0.0.1) and \n",
        "# create a session to establish connection and begin executing queries\n",
        "\n",
        "from cassandra.cluster import Cluster\n",
        "from cassandra.auth import PlainTextAuthProvider\n",
        "\n",
        "cloud_config= {\n",
        "  'secure_connect_bundle': '/content/sample_data/cassandra bundle.zip'\n",
        "}\n",
        "\n",
        "auth_provider = PlainTextAuthProvider(id, sec)\n",
        "cluster = Cluster(cloud=cloud_config, auth_provider=auth_provider)\n",
        "session = cluster.connect()"
      ]
    },
    {
      "cell_type": "markdown",
      "metadata": {
        "id": "VuDK5Oi88XNU"
      },
      "source": [
        "#### Create & Set Keyspace"
      ]
    },
    {
      "cell_type": "code",
      "execution_count": 13,
      "metadata": {
        "id": "42W1Mn__8XNU"
      },
      "outputs": [],
      "source": [
        "# Task: Create a Keyspace and Set KEYSPACE to the keyspace specified above\n",
        "keyspace = 'soundcloud'\n",
        "try:\n",
        "  # session.execute(\"\"\"\n",
        "  #   CREATE KEYSPACE IF NOT EXISTS soundcloud\n",
        "  #   WITH replication = {'class': 'SimpleStrategy', 'replication_factor': 1};\n",
        "  # \"\"\")\n",
        "  session.set_keyspace(keyspace)\n",
        "except Exception as err:\n",
        "  print(err)\n",
        "\n",
        "  "
      ]
    },
    {
      "cell_type": "markdown",
      "metadata": {
        "id": "m3I5YpJjWcPg"
      },
      "source": [
        "I am using DataStax Astra so I set my keyspace while i created my account. As a free tier i cannot rename it modify it. "
      ]
    },
    {
      "cell_type": "markdown",
      "metadata": {
        "id": "A_WuKnsw8XNU"
      },
      "source": [
        "## List of Queries \n",
        "\n",
        "### 1. Find the artist_name, song_title and length of song the SoundCloud app history that was heard during  session_number = 338, and item_in_session_number  = 4\n",
        "\n",
        "\n",
        "### 2. Find the artist_name, song_title (sorted by item_in_session_number) and name(fname and lname) of the user for user_id = 10, session_number = 182\n",
        "    \n",
        "\n",
        "### 3. Find every name(fname and lname) of the user from the SoundCloud app history that listened to the song_title 'All Hands Against His Own'\n",
        "\n",
        "\n"
      ]
    },
    {
      "cell_type": "markdown",
      "metadata": {
        "id": "Ithnq3jM8XNU"
      },
      "source": [
        "### Query1 Table1: How should we model this data? Think about what should be our Primary Key/Partition Key/Clustering Key"
      ]
    },
    {
      "cell_type": "code",
      "execution_count": 14,
      "metadata": {
        "colab": {
          "base_uri": "https://localhost:8080/"
        },
        "id": "LcZS46Dg8XNU",
        "outputId": "6b8d0032-82b3-4c6f-cb0d-e1d3c5f07e54"
      },
      "outputs": [
        {
          "name": "stdout",
          "output_type": "stream",
          "text": [
            "Table 'soundcloud.soundcloud_history' already exists\n"
          ]
        }
      ],
      "source": [
        "## Task: Query 1: Find the artist_name, song_title and length of song the SoundCloud app history \n",
        "## that was heard during session_number = 338, and item_in_session_number = 4\n",
        "## make use of create table command        \n",
        "\n",
        "try:\n",
        "  session.execute(\"\"\"\n",
        "    CREATE TABLE soundcloud_history (\n",
        "      session_number INT,\n",
        "      item_in_session_number INT,\n",
        "      artist_name TEXT,\n",
        "      song_title TEXT,\n",
        "      length_of_song FLOAT,\n",
        "      PRIMARY KEY ((session_number, item_in_session_number), artist_name, song_title)\n",
        "    )\n",
        "  \"\"\")\n",
        "except Exception as err:\n",
        "  print(err)\n",
        "\n",
        "# SELECT artist_name, song_title, length_of_song\n",
        "# FROM soundcloud_history\n",
        "# WHERE session_number = 338 AND item_in_session_number = 4;"
      ]
    },
    {
      "cell_type": "markdown",
      "metadata": {
        "id": "CjicsGzi8XNV"
      },
      "source": [
        "### Let's insert our data into of table"
      ]
    },
    {
      "cell_type": "code",
      "execution_count": 16,
      "metadata": {
        "colab": {
          "base_uri": "https://localhost:8080/"
        },
        "id": "aWUfZiXg8XNV",
        "outputId": "d070d8d5-bbaa-4c65-eebf-363904b37cf6",
        "scrolled": false
      },
      "outputs": [
        {
          "name": "stdout",
          "output_type": "stream",
          "text": [
            "(6820, 11)\n",
            "Index(['artist_name', 'fname', 'gender', 'item_in_session_number', 'lname',\n",
            "       'length', 'level', 'location', 'session_number', 'song_title',\n",
            "       'user_id'],\n",
            "      dtype='object')\n"
          ]
        }
      ],
      "source": [
        "\n",
        "file_name = '/content/sample_data/event_data.csv'\n",
        "\n",
        "df = pd.read_csv(file_name)\n",
        "rows = df.iterrows()\n",
        "\n",
        "print(df.shape)\n",
        "print(df.columns)\n",
        "\n",
        "for index, row in rows:\n",
        "  try:\n",
        "    query = (\n",
        "        f\"INSERT INTO soundcloud_history (session_number, item_in_session_number, artist_name, song_title, length_of_song) \"\n",
        "        f\"VALUES (%s, %s, %s, %s, %s)\"\n",
        "    )\n",
        "    params = (row['session_number'], row['item_in_session_number'], row['artist_name'], row['song_title'], row['length'])\n",
        "    session.execute(query, params)\n",
        "  except Exception as err:\n",
        "    print(err)\n",
        "    print(query)\n",
        "\n",
        "# We have provided part of the code to set up the CSV file. Please complete the Apache Cassandra code below#\n",
        "# with open(file_name, encoding = 'utf8') as f:\n",
        "#     csv_reader = csv.reader(f)\n",
        "#     next(csv_reader) # skip the header in the csv file\n",
        "#     for i in range(0,5):\n",
        "#       print(csv_reader[i])\n",
        "#     for (index,row) in enumerate(csv_reader):\n",
        "# ## Task: Write the INSERT statements and assign it to the query variable\n",
        "#         query = \"<Place your insert statement and assign the values here>\"\n",
        "        \n",
        "#         ## Task: Match the column in the csv file to the column in the INSERT statement.\n",
        "#         ## e.g., if you want to INSERT gender from csv file into the database you will use row[2]\n",
        "#         ## e.g., if you want to INSERT location from csv file into database you will use row[7]\n",
        "#         session.execute(query, (row[], row[]))"
      ]
    },
    {
      "cell_type": "markdown",
      "metadata": {
        "id": "oPfjaoPz8XNV"
      },
      "source": [
        "### Validate our Data Model using a SELECT"
      ]
    },
    {
      "cell_type": "code",
      "execution_count": 17,
      "metadata": {
        "colab": {
          "base_uri": "https://localhost:8080/"
        },
        "id": "Z_19oxTt8XNV",
        "outputId": "53886ea8-d145-4bd3-e7bf-863bccd91995",
        "scrolled": true
      },
      "outputs": [
        {
          "name": "stdout",
          "output_type": "stream",
          "text": [
            "Row(artist_name='Faithless', song_title='Music Matters (Mark Knight Dub)', length_of_song=495.30731201171875)\n"
          ]
        }
      ],
      "source": [
        "## Task: Make use of the SELECT statement and for loop to check if your query works and display the results\n",
        "try:\n",
        "  query = \"\"\"\n",
        "    SELECT artist_name, song_title, length_of_song \n",
        "    FROM soundcloud_history \n",
        "    WHERE session_number = 338 and item_in_session_number = 4\n",
        "  \"\"\"\n",
        "  rows = session.execute(query)\n",
        "\n",
        "  for row in rows:\n",
        "    print(row)\n",
        "except Exception as err:\n",
        "  print(err)"
      ]
    },
    {
      "cell_type": "markdown",
      "metadata": {
        "id": "KBIGaT4Q8XNV"
      },
      "source": [
        "### Query2 Table2: How should we model this data? Think about what should be our Primary Key/Partition Key/Clustering Key "
      ]
    },
    {
      "cell_type": "code",
      "execution_count": 18,
      "metadata": {
        "id": "Pot3ndZe8XNV"
      },
      "outputs": [],
      "source": [
        "## Task: Query 2: Find the artist_name, song_title (sorted by item_in_session_number) and \n",
        "## name(fname and lname) of the user for user_id = 10, session_number = 182 \n",
        "## make use of create table command     \n",
        "\n",
        "try:\n",
        "  query = \"\"\"\n",
        "    CREATE TABLE IF NOT EXISTS soundcloud_history2 (\n",
        "      user_id INT,\n",
        "      session_number INT,\n",
        "      item_in_session_number INT,\n",
        "      artist_name TEXT,\n",
        "      song_title TEXT,\n",
        "      fname TEXT,\n",
        "      lname TEXT,\n",
        "      PRIMARY KEY ((user_id, session_number), item_in_session_number)\n",
        "    );\n",
        "  \"\"\"\n",
        "  session.execute(query)\n",
        "except Exception as err:\n",
        "  print(err)"
      ]
    },
    {
      "cell_type": "markdown",
      "metadata": {
        "id": "5nDivXIC8XNV"
      },
      "source": [
        "### Let's insert our data into of table"
      ]
    },
    {
      "cell_type": "code",
      "execution_count": 19,
      "metadata": {
        "id": "FPFhoEzx8XNW",
        "scrolled": false
      },
      "outputs": [],
      "source": [
        "# We have provided part of the code to set up the CSV file. Please complete the Apache Cassandra code below#\n",
        "# file_name = 'event_data.csv'\n",
        "\n",
        "# with open(file_name, encoding = 'utf8') as f:\n",
        "#     csv_reader = csv.reader(f)\n",
        "#     next(csvreader) # skip the header in the csv file\n",
        "#     for row in csv_reader:\n",
        "# ## Task: Write the INSERT statements and assign it to the query variable\n",
        "#         query = \"<Place your insert statement and assign the values here>\"\n",
        "        \n",
        "#         ## Task: Match the column in the csv file to the column in the INSERT statement.\n",
        "#         ## e.g., if you want to INSERT gender from csv file into the database you will use row[2]\n",
        "#         ## e.g., if you want to INSERT location from csv file into database you will use row[7]\n",
        "#         session.execute(query, (row[], row[]))\n",
        "\n",
        "\n",
        "file_name = '/content/sample_data/event_data.csv'\n",
        "\n",
        "df = pd.read_csv(file_name)\n",
        "\n",
        "for index, row in  df.iterrows():\n",
        "  try:\n",
        "    query = (\n",
        "        f\"INSERT INTO soundcloud_history2 (user_id, session_number, item_in_session_number, artist_name, song_title, fname, lname) \"\n",
        "        f\"VALUES (%s, %s, %s, %s, %s, %s, %s)\"\n",
        "    )\n",
        "    params = (row['user_id'], row['session_number'], row['item_in_session_number'], row['artist_name'], row['song_title'], row['fname'], row['lname'])\n",
        "    session.execute(query, params)\n",
        "  except Exception as err:\n",
        "    print(err)\n",
        "    print(query)"
      ]
    },
    {
      "cell_type": "markdown",
      "metadata": {
        "id": "mi8xMyP48XNW"
      },
      "source": [
        "### Validate our Data Model using a SELECT"
      ]
    },
    {
      "cell_type": "code",
      "execution_count": 20,
      "metadata": {
        "colab": {
          "base_uri": "https://localhost:8080/"
        },
        "id": "8CWFN3MS8XNW",
        "outputId": "8edb2520-dc77-4a1b-c4a6-6ca033c3734d",
        "scrolled": true
      },
      "outputs": [
        {
          "name": "stdout",
          "output_type": "stream",
          "text": [
            "Row(artist_name='Down To The Bone', song_title=\"Keep On Keepin' On\", fname='Sylvie', lname='Cruz')\n",
            "Row(artist_name='Three Drives', song_title='Greece 2000', fname='Sylvie', lname='Cruz')\n",
            "Row(artist_name='Sebastien Tellier', song_title='Kilometer', fname='Sylvie', lname='Cruz')\n",
            "Row(artist_name='Lonnie Gordon', song_title='Catch You Baby (Steve Pitron & Max Sanna Radio Edit)', fname='Sylvie', lname='Cruz')\n"
          ]
        }
      ],
      "source": [
        "## Task: Make use of the SELECT statement and for loop to check if your query works and display the results\n",
        "try:\n",
        "  query = \"\"\"\n",
        "    SELECT artist_name, song_title, fname, lname\n",
        "    FROM soundcloud_history2 \n",
        "    WHERE user_id = 10 AND session_number = 182 \n",
        "    ORDER BY item_in_session_number;\n",
        "  \"\"\"\n",
        "  rows = session.execute(query)\n",
        "  for row in rows:\n",
        "    print(row)\n",
        "except err:\n",
        "  print(err)"
      ]
    },
    {
      "cell_type": "markdown",
      "metadata": {
        "id": "-PX9PmfX8XNW"
      },
      "source": [
        "### Query3 Table3: How should we model this data? Think about what should be our Primary Key/Partition Key/Clustering Key"
      ]
    },
    {
      "cell_type": "code",
      "execution_count": null,
      "metadata": {
        "id": "CrmfIc9UxHLm"
      },
      "outputs": [],
      "source": []
    },
    {
      "cell_type": "code",
      "execution_count": 21,
      "metadata": {
        "id": "PGEY8Jba8XNW"
      },
      "outputs": [],
      "source": [
        "## Task: Query 3: Find every name(first and lastname) of the user from the SoundCloud app history that listened \n",
        "## to the song_title 'All Hands Against His Own'\n",
        "## make use of create table command                   \n",
        "\n",
        "query = \"\"\"\n",
        "  CREATE TABLE IF NOT EXISTS app_history (\n",
        "      song_title text,\n",
        "      user_id int,\n",
        "      fname text,\n",
        "      lname text,\n",
        "      PRIMARY KEY (song_title, user_id)\n",
        "  ) WITH CLUSTERING ORDER BY (user_id ASC);\n",
        "\"\"\"\n",
        "\n",
        "try:\n",
        "  session.execute(query)\n",
        "except err:\n",
        "  print(err)"
      ]
    },
    {
      "cell_type": "markdown",
      "metadata": {
        "id": "n2G5k1Lm8XNW"
      },
      "source": [
        "### Let's insert our data into of table"
      ]
    },
    {
      "cell_type": "code",
      "execution_count": 22,
      "metadata": {
        "id": "InFklCch8XNW",
        "scrolled": false
      },
      "outputs": [],
      "source": [
        "# We have provided part of the code to set up the CSV file. Please complete the Apache Cassandra code below#\n",
        "# file_name = 'event_data.csv'\n",
        "\n",
        "# with open(file_name, encoding = 'utf8') as f:\n",
        "#     csv_reader = csv.reader(f)\n",
        "#     next(csvreader) # skip the header in the csv file\n",
        "#     for row in csv_reader:\n",
        "# ## Task: Write the INSERT statements and assign it to the query variable\n",
        "#         query = \"<Place your insert statement and assign the values here>\"\n",
        "        \n",
        "#         ## Task: Match the column in the csv file to the column in the INSERT statement.\n",
        "#         ## e.g., if you want to INSERT gender from csv file into the database you will use row[2]\n",
        "#         ## e.g., if you want to INSERT location from csv file into database you will use row[7]\n",
        "#         session.execute(query, (row[], row[]))\n",
        "\n",
        "\n",
        "file_name = '/content/sample_data/event_data.csv'\n",
        "\n",
        "df = pd.read_csv(file_name)\n",
        "\n",
        "for index, row in  df.iterrows():\n",
        "  try:\n",
        "    query = (\n",
        "        f\"INSERT INTO app_history (song_title, user_id, fname, lname) \"\n",
        "        f\"VALUES (%s, %s, %s, %s)\"\n",
        "    )\n",
        "    params = (row['song_title'], row['user_id'], row['fname'], row['lname'])\n",
        "    session.execute(query, params)\n",
        "  except Exception as err:\n",
        "    print(err)\n",
        "    print(query)"
      ]
    },
    {
      "cell_type": "markdown",
      "metadata": {
        "id": "2fWsty0y8XNW"
      },
      "source": [
        "### Validate our Data Model using a SELECT"
      ]
    },
    {
      "cell_type": "code",
      "execution_count": 23,
      "metadata": {
        "colab": {
          "base_uri": "https://localhost:8080/"
        },
        "id": "UhU4HOD48XNX",
        "outputId": "650ab807-a4d3-46d3-a147-0d1a29d41ab0",
        "scrolled": true
      },
      "outputs": [
        {
          "name": "stdout",
          "output_type": "stream",
          "text": [
            "Row(fname='Jacqueline', lname='Lynch')\n",
            "Row(fname='Tegan', lname='Levine')\n",
            "Row(fname='Sara', lname='Johnson')\n"
          ]
        }
      ],
      "source": [
        "## Task: Make use of the SELECT statement and for loop to check if your query works and display the results\n",
        "try:\n",
        "  query = \"\"\"\n",
        "  SELECT fname, lname from app_history\n",
        "  WHERE song_title='All Hands Against His Own'\n",
        "  \"\"\"\n",
        "  rows = session.execute(query)\n",
        "  for row in rows:\n",
        "    print(row)\n",
        "except Exception as err:\n",
        "  print(err)"
      ]
    },
    {
      "cell_type": "markdown",
      "metadata": {
        "id": "XrLzynfR8XNX"
      },
      "source": [
        "### Drop the tables before closing out the sessions"
      ]
    },
    {
      "cell_type": "code",
      "execution_count": 24,
      "metadata": {
        "colab": {
          "base_uri": "https://localhost:8080/"
        },
        "id": "L__d3HQL8XNX",
        "outputId": "b5e95830-becd-45b7-9a3b-6aed1a272c6e"
      },
      "outputs": [
        {
          "data": {
            "text/plain": [
              "<cassandra.cluster.ResultSet at 0x7fc8146e7970>"
            ]
          },
          "execution_count": 24,
          "metadata": {},
          "output_type": "execute_result"
        }
      ],
      "source": [
        "query = \"DROP TABLE soundcloud_history\"\n",
        "\n",
        "session.execute(query)"
      ]
    },
    {
      "cell_type": "markdown",
      "metadata": {
        "id": "YqKHbuMx8XNX"
      },
      "source": [
        "### Close the session and cluster connection¶"
      ]
    },
    {
      "cell_type": "code",
      "execution_count": 11,
      "metadata": {
        "id": "1C2L1NRA8XNX"
      },
      "outputs": [],
      "source": [
        "cluster.shutdown()\n",
        "session.shutdown()"
      ]
    }
  ],
  "metadata": {
    "colab": {
      "provenance": []
    },
    "kernelspec": {
      "display_name": "Python 3",
      "language": "python",
      "name": "python3"
    },
    "language_info": {
      "codemirror_mode": {
        "name": "ipython",
        "version": 3
      },
      "file_extension": ".py",
      "mimetype": "text/x-python",
      "name": "python",
      "nbconvert_exporter": "python",
      "pygments_lexer": "ipython3",
      "version": "3.7.3"
    }
  },
  "nbformat": 4,
  "nbformat_minor": 0
}
